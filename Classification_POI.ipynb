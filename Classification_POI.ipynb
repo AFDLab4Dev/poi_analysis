{
 "cells": [
  {
   "cell_type": "markdown",
   "metadata": {},
   "source": [
    "# Classification of Point of interests\n",
    "\n",
    "## Contexte \n",
    "\n",
    "Dans le contexte du projet de tableau de bord des espaces urbains africains (beta.dataspace.fr/city), les données d'OpenStreetMap ont été mises en forme pour apporter du sens aux chefs de projets AFD. Par exemple le tag \"bus_station\" désigne peut désigner les gares routières, ce qui a un intérêt lorsqu'on analyse des cartes.\n",
    "\n",
    "Néanmoins cette information a peu de valeur car OSM reste une base de donne où la donnée est bruitée (les arrêts de bus normaux sont mélangés avec les gares routières, des agences de voyage se référencent comme gare routière), et incomplète (un chef de projet AFD s'attendrait à avoir plus d'informations sur cette gare routière).\n",
    "\n",
    "\n",
    "\n",
    "## Plan d'expérience\n",
    "\n",
    "* Récupération de l'ensemble des points référencées comme gare routière sur OpenStreetMap ( environ 1000 points en Afrique)\n",
    "* Récupération de photos satellites des gares routières\n",
    "* Etiquettage d'un petit set de points GPS via une plateforme de Crowdsourcing interne\n",
    "* Entrainement d'un algorithme filtrant les faux positifs (points GPS classifiés comme gare routière alors qu'arrêt de bus ou agences de voyages)\n",
    "* Entrainement d'un algorithme cherchant à déterminer plus de caractéristiques. Dans un premier temps bitumé/terre, et bâtiments/ pas de bâtiments. Lorsque le pipeline sera au point, l'utilisation d'images de drones ou d'images satellites achetées permettra l'estimation du type de flotte (taxi/minibus/bus).\n",
    "\n",
    "## Enseignements\n",
    "\n",
    "* OpenStreetMap à la fois complet (pas moins que Google Maps) et incomplet (énormément de points manquants sur l'Afrique, seulement 2Go de données). \n",
    "* Les manques sont surtout concentrés sur les zones les plus vulnérables ( Ex carte CartoDB)"
   ]
  },
  {
   "cell_type": "markdown",
   "metadata": {},
   "source": [
    "### 1- Extractions des données\n",
    "\n",
    "Voir le script getting_images.py"
   ]
  },
  {
   "cell_type": "markdown",
   "metadata": {},
   "source": [
    "### 2- Augmentation des données \n",
    "\n",
    "Pour améliorer la qualité de l'analyse, nous allons augmenter le nombre de données, notamment avec des translations, du bruit etc...\n",
    "Dans un premier temps, nous nous limiterons à pusieurs rotations à 90."
   ]
  },
  {
   "cell_type": "code",
   "execution_count": 1,
   "metadata": {
    "collapsed": true
   },
   "outputs": [],
   "source": [
    "import os \n",
    "import skimage as sk \n",
    "\n",
    "# Get all raw images \n",
    "directory= os.listdir(\"img\")\n",
    "\n",
    "\n",
    "\n"
   ]
  },
  {
   "cell_type": "markdown",
   "metadata": {},
   "source": [
    "### 3- Extraction des descripteurs\n",
    "\n",
    "Avant la classification, nous allons extraire les descripteurs.\n",
    "Dans ce premier batch d'expériences, nous allons récuperer l'activation de certaines couches du réseau VG NET 16 en s'inspirant les instructions de Michel Blancard sur le blog de post suivant:  https://agd.data.gouv.fr/2016/06/27/un-reseau-de-neurones-pour-opensolarmap-23/\n",
    "\n",
    "Ce sont les seuls descripteurs que nous intégrerons dans un premier temps. \n",
    "\n",
    "Nous en profitons pour créer un vecteur label, gare vs non gare.\n"
   ]
  },
  {
   "cell_type": "code",
   "execution_count": 104,
   "metadata": {},
   "outputs": [
    {
     "name": "stdout",
     "output_type": "stream",
     "text": [
      "<Attributes of HDF5 object at 140663579957656>\n",
      "Model loaded.\n"
     ]
    }
   ],
   "source": [
    "from keras.models import Sequential\n",
    "from keras.layers.core import Flatten, Dense, Dropout\n",
    "from keras.layers.convolutional import Convolution2D, MaxPooling2D, ZeroPadding2D\n",
    "from keras.optimizers import SGD\n",
    "import numpy as np\n",
    "import h5py\n",
    "\n",
    "from keras import backend as K\n",
    "\n",
    "        \n",
    "def VGG_16_custom(weights_path):\n",
    "    model = Sequential()\n",
    "\n",
    "    model.add(ZeroPadding2D((1, 1), input_shape=(3, 96, 96), dim_ordering='th'))\n",
    "    model.add(Convolution2D(64, 3, 3, activation='relu', dim_ordering='th'))\n",
    "    model.add(ZeroPadding2D((1, 1), dim_ordering='th'))\n",
    "    model.add(Convolution2D(64, 3, 3, activation='relu', dim_ordering='th'))\n",
    "    model.add(MaxPooling2D((2, 2), strides=(2, 2), dim_ordering='th'))\n",
    "\n",
    "    model.add(ZeroPadding2D((1, 1), dim_ordering='th'))\n",
    "    model.add(Convolution2D(128, 3, 3, activation='relu', dim_ordering='th'))\n",
    "    model.add(ZeroPadding2D((1, 1), dim_ordering='th'))\n",
    "    model.add(Convolution2D(128, 3, 3, activation='relu', dim_ordering='th'))\n",
    "    model.add(MaxPooling2D((2, 2), strides=(2, 2), dim_ordering='th'))\n",
    "    \n",
    "    model.add(ZeroPadding2D((1, 1), dim_ordering='th'))\n",
    "    model.add(Convolution2D(256, 3, 3, activation='relu', dim_ordering='th'))\n",
    "    model.add(ZeroPadding2D((1, 1), dim_ordering='th'))\n",
    "    model.add(Convolution2D(256, 3, 3, activation='relu', dim_ordering='th'))\n",
    "    model.add(ZeroPadding2D((1, 1), dim_ordering='th'))\n",
    "    model.add(Convolution2D(256, 3, 3, activation='relu', dim_ordering='th'))\n",
    "    model.add(MaxPooling2D((2, 2), strides=(2, 2), dim_ordering='th'))\n",
    "   \n",
    "    model.add(ZeroPadding2D((1, 1), dim_ordering='th'))\n",
    "    model.add(Convolution2D(512, 3, 3, activation='relu', dim_ordering='th'))\n",
    "    model.add(ZeroPadding2D((1, 1), dim_ordering='th'))\n",
    "    model.add(Convolution2D(512, 3, 3, activation='relu', dim_ordering='th'))\n",
    "    model.add(ZeroPadding2D((1, 1), dim_ordering='th'))\n",
    "    model.add(Convolution2D(512, 3, 3, activation='relu', dim_ordering='th'))\n",
    "    model.add(MaxPooling2D((2, 2), strides=(2, 2), dim_ordering='th'))\n",
    "    \n",
    "    '''\n",
    "    model.add(ZeroPadding2D((1, 1), dim_ordering='th'))\n",
    "    model.add(Convolution2D(512, 3, 3, activation='relu', dim_ordering='th'))\n",
    "    model.add(ZeroPadding2D((1, 1), dim_ordering='th'))\n",
    "    model.add(Convolution2D(512, 3, 3, activation='relu', dim_ordering='th'))\n",
    "    model.add(ZeroPadding2D((1, 1), dim_ordering='th'))\n",
    "    model.add(Convolution2D(512, 3, 3, activation='relu', dim_ordering='th'))\n",
    "    model.add(MaxPooling2D((2, 2), strides=(2, 2), dim_ordering='th'))\n",
    "    '''\n",
    "    model.add(Flatten())\n",
    "\n",
    "    f = h5py.File(weights_path,'r')\n",
    "    \n",
    "    print(f.attrs)\n",
    "    for k in range(f.attrs['nb_layers']):\n",
    "        if k >= len(model.layers):\n",
    "            # we don't look at the last (fully-connected) layers in the savefile\n",
    "            break\n",
    "        g = f['layer_{}'.format(k)]\n",
    "        weights = [g['param_{}'.format(p)] for p in range(g.attrs['nb_params'])]\n",
    "        model.layers[k].set_weights(weights)\n",
    "    f.close()\n",
    "    print('Model loaded.')\n",
    "\n",
    "    return model\n",
    "\n",
    "model = VGG_16_custom(\"/home/etienne/Documents/POI_classification/vgg16_weights.h5\")\n",
    "sgd = SGD(lr=0.1, decay=1e-6, momentum=0.9, nesterov=True)\n",
    "model.compile(optimizer=sgd, loss='categorical_crossentropy')\n",
    "\n",
    "\n",
    "\n"
   ]
  },
  {
   "cell_type": "code",
   "execution_count": 105,
   "metadata": {
    "collapsed": true
   },
   "outputs": [],
   "source": [
    "from skimage import io\n",
    "\n",
    "directory= os.listdir(\"img\")\n",
    "direc = [\"img/\"+x for x in directory]\n",
    "\n",
    "\n",
    "def parse_title(title):\n",
    "    vect= title.split(\"/\")[-1].split(\".\")[0].split(\"-\")\n",
    "    img_id = vect[0]\n",
    "    img_type = vect[-1]\n",
    "    img_tag = []\n",
    "    \n",
    "    if len(vect) > 2:\n",
    "        for i in range(len(vect)-2) :\n",
    "            img_tag.append(vect[i+1])\n",
    "            \n",
    "    return img_id, img_type, img_tag\n",
    "    \n",
    "\n",
    "\n",
    "#Image loader\n",
    "def loader(list_img):\n",
    "    for i in range(len(list_img)):\n",
    "        img = sk.io.imread(list_img[i])\n",
    "        im = img[:-15:,:]\n",
    "        [img_id, img_type, img_tag] = parse_title(list_img[i])\n",
    "        yield [img_id, img_tag , im]\n",
    "        for j in range(3):\n",
    "            yield [img_id+str(j), img_tag, sk.transform.rotate(im, 90*(j+1))]\n",
    "\n",
    "\n",
    "    \n"
   ]
  },
  {
   "cell_type": "code",
   "execution_count": 109,
   "metadata": {},
   "outputs": [],
   "source": [
    "\n",
    "\n",
    "you = loader(direc)\n",
    "\n"
   ]
  },
  {
   "cell_type": "code",
   "execution_count": 110,
   "metadata": {},
   "outputs": [
    {
     "name": "stdout",
     "output_type": "stream",
     "text": [
      "(0, 300)\n",
      "(10, 300)\n",
      "(20, 300)\n",
      "(30, 300)\n",
      "(40, 300)\n",
      "(50, 300)\n",
      "(60, 300)\n",
      "(70, 300)\n",
      "(80, 300)\n",
      "(90, 300)\n",
      "(100, 300)\n",
      "(110, 300)\n",
      "(120, 300)\n",
      "(130, 300)\n",
      "(140, 300)\n",
      "(150, 300)\n",
      "(160, 300)\n",
      "(170, 300)\n",
      "(180, 300)\n",
      "(190, 300)\n",
      "(200, 300)\n",
      "(210, 300)\n",
      "(220, 300)\n",
      "(230, 300)\n",
      "(240, 300)\n",
      "(250, 300)\n",
      "(260, 300)\n",
      "(270, 300)\n",
      "(280, 300)\n",
      "(290, 300)\n"
     ]
    }
   ],
   "source": [
    "from skimage import transform\n",
    "def compute_cnn_features_list(img):\n",
    "    img = sk.transform.resize(img, (96,96,3))\n",
    "    im = img.copy().reshape((96, 96, 3)).copy()\n",
    "    #plt.imshow(im.astype(np.uint8))\n",
    "    im[:, :, 0] -= 103.939\n",
    "    im[:, :, 1] -= 116.779\n",
    "    im[:, :, 2] -= 123.68\n",
    "    im = im.transpose((2, 0, 1))\n",
    "    im = np.expand_dims(im, axis=0)\n",
    "    cnn_features = model.predict(im)\n",
    "\n",
    "    return cnn_features\n",
    "\n",
    "\n",
    "n = len(directory)*4\n",
    "img_id = np.zeros((n,))\n",
    "label = np.zeros((n,), dtype=\"object\")\n",
    "features = np.zeros((n,18432))\n",
    "\n",
    "for i in range(n):\n",
    "    if (float(i)/10) == round(i/10):\n",
    "        print(i,n)\n",
    "    [img_i, labe, im] = you.next()\n",
    "    img_id[i] = img_i\n",
    "    label[i] = labe\n",
    "    features[i,:] = compute_cnn_features_list(im)\n",
    "\n"
   ]
  },
  {
   "cell_type": "code",
   "execution_count": 100,
   "metadata": {},
   "outputs": [],
   "source": [
    "\n",
    "def tag2label(tag, keyword):\n",
    "    label = np.zeros((len(tag),), dtype=\"object\")\n",
    "    for i in range(len(tag)):\n",
    "        if (keyword in tag[i]):\n",
    "            label[i]= keyword\n",
    "        else:\n",
    "            label[i] = \"false\"\n",
    "            \n",
    "    return label\n",
    "\n",
    "label2= tag2label(label, \"batiment\")\n",
    "    "
   ]
  },
  {
   "cell_type": "code",
   "execution_count": 101,
   "metadata": {},
   "outputs": [
    {
     "data": {
      "text/plain": [
       "<matplotlib.axes._subplots.AxesSubplot at 0x7feecb8ddfd0>"
      ]
     },
     "execution_count": 101,
     "metadata": {},
     "output_type": "execute_result"
    },
    {
     "data": {
      "image/png": "[encoded data removed]",
      "text/plain": [
       "<matplotlib.figure.Figure at 0x7feecb26a510>"
      ]
     },
     "metadata": {},
     "output_type": "display_data"
    }
   ],
   "source": [
    "from sklearn.model_selection import train_test_split\n",
    "'''\n",
    "label[label == 'i'] = 'a'\n",
    "\n",
    "label2 = np.zeros((len(label),))\n",
    "label2[label == 'r'] = 1\n",
    "'''\n",
    "X_train, X_test, y_train, y_test = train_test_split(features, label2, test_size=0.1, random_state=0)\n",
    "\n",
    "from matplotlib import pyplot as plt\n",
    "%matplotlib inline\n",
    "import pandas\n",
    "from collections import Counter\n",
    "letter_counts = Counter(label2)\n",
    "df = pandas.DataFrame.from_dict(letter_counts, orient='index')\n",
    "df.plot(kind='bar')\n",
    "\n",
    "\n"
   ]
  },
  {
   "cell_type": "code",
   "execution_count": 102,
   "metadata": {},
   "outputs": [
    {
     "name": "stdout",
     "output_type": "stream",
     "text": [
      "LR took 0.337421 seconds.\n",
      "LR took 0.511205 seconds.\n",
      "LR took 0.809492 seconds.\n",
      "LR took 1.435164 seconds.\n",
      "LR took 1.708947 seconds.\n",
      "LR took 2.407636 seconds.\n",
      "LR took 2.412380 seconds.\n",
      "LR took 2.374750 seconds.\n",
      "LR took 2.371878 seconds.\n",
      "LR took 2.376181 seconds.\n",
      "LR took 2.760183 seconds.\n",
      "LR took 2.657372 seconds.\n",
      "LR took 2.606982 seconds.\n",
      "LR took 2.376634 seconds.\n",
      "LR took 2.464220 seconds.\n",
      "LR took 2.547193 seconds.\n",
      "LR took 2.427666 seconds.\n",
      "LR took 2.544656 seconds.\n",
      "LR took 2.415562 seconds.\n",
      "LR took 2.664352 seconds.\n",
      "LR took 2.650775 seconds.\n",
      "LR took 2.390611 seconds.\n",
      "LR took 2.395807 seconds.\n",
      "LR took 2.394000 seconds.\n",
      "LR took 2.390781 seconds.\n",
      "LR took 2.387709 seconds.\n",
      "LR took 3.057099 seconds.\n",
      "LR took 2.628762 seconds.\n",
      "LR took 2.388444 seconds.\n",
      "LR took 2.393057 seconds.\n"
     ]
    }
   ],
   "source": [
    "from sklearn.linear_model import LogisticRegression\n",
    "import time\n",
    "\n",
    "n_C = 30\n",
    "C_list = np.logspace(-10, 10, n_C)\n",
    "errors = np.zeros(n_C)\n",
    "for i, C in enumerate(C_list):\n",
    "    model = LogisticRegression(penalty='l2', C=C)\n",
    "    t = time.time()\n",
    "    model.fit(X_train, y_train)\n",
    "    print(\"LR took %f seconds.\"%(time.time()-t))\n",
    "    predictions = model.predict(X_test)\n",
    "\n",
    "    errors[i] = float((y_test!=predictions).sum())/len(y_test)\n"
   ]
  },
  {
   "cell_type": "code",
   "execution_count": 103,
   "metadata": {},
   "outputs": [
    {
     "data": {
      "image/png": "[encoded data removed]",
      "text/plain": [
       "<matplotlib.figure.Figure at 0x7feecae2c8d0>"
      ]
     },
     "metadata": {},
     "output_type": "display_data"
    }
   ],
   "source": [
    "from matplotlib import pyplot as plt\n",
    "%matplotlib inline\n",
    "plt.plot(C_list, errors)\n",
    "plt.xscale('log')\n"
   ]
  },
  {
   "cell_type": "code",
   "execution_count": 62,
   "metadata": {},
   "outputs": [
    {
     "name": "stdout",
     "output_type": "stream",
     "text": [
      "optimal C : 572236.765935\n",
      "LR took 0.107392 seconds.\n"
     ]
    }
   ],
   "source": [
    "i_opt = np.argmin(errors)\n",
    "C_opt = C_list[i_opt] #0.000018#\n",
    "print('optimal C : %f'%C_opt)\n",
    "model = LogisticRegression(penalty='l2', C=C_opt)\n",
    "t = time.time()\n",
    "model.fit(X_train, y_train)\n",
    "print(\"LR took %f seconds.\"%(time.time()-t))\n",
    "predictions = model.predict(X_test)\n",
    "\n",
    "errors[i] = float((y_test!=predictions).sum())/len(y_test)"
   ]
  },
  {
   "cell_type": "code",
   "execution_count": 43,
   "metadata": {},
   "outputs": [
    {
     "name": "stdout",
     "output_type": "stream",
     "text": [
      "['false' 'bitume' 'bitume' 'bitume' 'false' 'false' 'false' 'false' 'false'\n",
      " 'bitume' 'bitume' 'false' 'bitume' 'false' 'bitume' 'bitume' 'bitume'\n",
      " 'bitume' 'bitume' 'false' 'bitume' 'bitume' 'false' 'false' 'false'\n",
      " 'bitume' 'bitume' 'bitume' 'bitume' 'bitume' 'false' 'false' 'false'\n",
      " 'bitume' 'false' 'bitume' 'false' 'false' 'false' 'bitume' 'false'\n",
      " 'bitume' 'bitume' 'bitume' 'false' 'false' 'false' 'false' 'false' 'false'\n",
      " 'false' 'bitume' 'bitume' 'bitume' 'false' 'false' 'bitume' 'false'\n",
      " 'false' 'false' 'false' 'false' 'false' 'false' 'false' 'false' 'bitume'\n",
      " 'false' 'bitume' 'false' 'false' 'false' 'false' 'false' 'false' 'bitume'\n",
      " 'false' 'bitume' 'bitume' 'false' 'false' 'bitume' 'bitume' 'false'\n",
      " 'bitume' 'false' 'bitume' 'false' 'bitume' 'bitume' 'false' 'bitume'\n",
      " 'false' 'false' 'bitume' 'bitume' 'bitume' 'bitume' 'bitume']\n",
      "['false' 'bitume' 'false' 'false' 'false' 'bitume' 'bitume' 'false' 'false'\n",
      " 'bitume' 'bitume' 'false' 'bitume' 'false' 'false' 'false' 'false'\n",
      " 'bitume' 'bitume' 'false' 'false' 'false' 'false' 'false' 'false' 'bitume'\n",
      " 'false' 'bitume' 'false' 'bitume' 'false' 'bitume' 'false' 'bitume'\n",
      " 'false' 'bitume' 'false' 'bitume' 'false' 'false' 'false' 'false' 'false'\n",
      " 'false' 'false' 'false' 'false' 'bitume' 'false' 'bitume' 'bitume'\n",
      " 'bitume' 'false' 'false' 'false' 'false' 'false' 'false' 'false' 'bitume'\n",
      " 'false' 'bitume' 'bitume' 'false' 'false' 'false' 'bitume' 'false'\n",
      " 'bitume' 'false' 'false' 'bitume' 'false' 'bitume' 'false' 'bitume'\n",
      " 'false' 'false' 'bitume' 'bitume' 'bitume' 'false' 'bitume' 'false'\n",
      " 'false' 'false' 'bitume' 'false' 'false' 'bitume' 'false' 'false' 'false'\n",
      " 'false' 'bitume' 'false' 'false' 'false' 'bitume']\n"
     ]
    },
    {
     "ename": "ValueError",
     "evalue": "Data is not binary and pos_label is not specified",
     "output_type": "error",
     "traceback": [
      "\u001b[0;31m---------------------------------------------------------------------------\u001b[0m",
      "\u001b[0;31mValueError\u001b[0m                                Traceback (most recent call last)",
      "\u001b[0;32m<ipython-input-43-408e87eb2c01>\u001b[0m in \u001b[0;36m<module>\u001b[0;34m()\u001b[0m\n\u001b[1;32m      2\u001b[0m \u001b[0;32mprint\u001b[0m \u001b[0my_test\u001b[0m\u001b[0;34m\u001b[0m\u001b[0m\n\u001b[1;32m      3\u001b[0m \u001b[0;32mprint\u001b[0m \u001b[0mpredictions\u001b[0m\u001b[0;34m\u001b[0m\u001b[0m\n\u001b[0;32m----> 4\u001b[0;31m \u001b[0mfpr\u001b[0m\u001b[0;34m,\u001b[0m \u001b[0mtpr\u001b[0m\u001b[0;34m,\u001b[0m \u001b[0m_\u001b[0m \u001b[0;34m=\u001b[0m \u001b[0mroc_curve\u001b[0m\u001b[0;34m(\u001b[0m\u001b[0my_test\u001b[0m\u001b[0;34m.\u001b[0m\u001b[0mravel\u001b[0m\u001b[0;34m(\u001b[0m\u001b[0;34m)\u001b[0m\u001b[0;34m,\u001b[0m \u001b[0mpredictions\u001b[0m\u001b[0;34m.\u001b[0m\u001b[0mravel\u001b[0m\u001b[0;34m(\u001b[0m\u001b[0;34m)\u001b[0m\u001b[0;34m)\u001b[0m\u001b[0;34m\u001b[0m\u001b[0m\n\u001b[0m\u001b[1;32m      5\u001b[0m \u001b[0mroc_auc\u001b[0m \u001b[0;34m=\u001b[0m \u001b[0mauc\u001b[0m\u001b[0;34m(\u001b[0m\u001b[0mfpr\u001b[0m\u001b[0;34m,\u001b[0m \u001b[0mtpr\u001b[0m\u001b[0;34m)\u001b[0m\u001b[0;34m\u001b[0m\u001b[0m\n\u001b[1;32m      6\u001b[0m \u001b[0;34m\u001b[0m\u001b[0m\n",
      "\u001b[0;32m/home/etienne/anaconda3/envs/Python27/lib/python2.7/site-packages/sklearn/metrics/ranking.pyc\u001b[0m in \u001b[0;36mroc_curve\u001b[0;34m(y_true, y_score, pos_label, sample_weight, drop_intermediate)\u001b[0m\n\u001b[1;32m    503\u001b[0m     \"\"\"\n\u001b[1;32m    504\u001b[0m     fps, tps, thresholds = _binary_clf_curve(\n\u001b[0;32m--> 505\u001b[0;31m         y_true, y_score, pos_label=pos_label, sample_weight=sample_weight)\n\u001b[0m\u001b[1;32m    506\u001b[0m \u001b[0;34m\u001b[0m\u001b[0m\n\u001b[1;32m    507\u001b[0m     \u001b[0;31m# Attempt to drop thresholds corresponding to points in between and\u001b[0m\u001b[0;34m\u001b[0m\u001b[0;34m\u001b[0m\u001b[0m\n",
      "\u001b[0;32m/home/etienne/anaconda3/envs/Python27/lib/python2.7/site-packages/sklearn/metrics/ranking.pyc\u001b[0m in \u001b[0;36m_binary_clf_curve\u001b[0;34m(y_true, y_score, pos_label, sample_weight)\u001b[0m\n\u001b[1;32m    312\u001b[0m              \u001b[0marray_equal\u001b[0m\u001b[0;34m(\u001b[0m\u001b[0mclasses\u001b[0m\u001b[0;34m,\u001b[0m \u001b[0;34m[\u001b[0m\u001b[0;34m-\u001b[0m\u001b[0;36m1\u001b[0m\u001b[0;34m]\u001b[0m\u001b[0;34m)\u001b[0m \u001b[0;32mor\u001b[0m\u001b[0;34m\u001b[0m\u001b[0m\n\u001b[1;32m    313\u001b[0m              array_equal(classes, [1]))):\n\u001b[0;32m--> 314\u001b[0;31m         \u001b[0;32mraise\u001b[0m \u001b[0mValueError\u001b[0m\u001b[0;34m(\u001b[0m\u001b[0;34m\"Data is not binary and pos_label is not specified\"\u001b[0m\u001b[0;34m)\u001b[0m\u001b[0;34m\u001b[0m\u001b[0m\n\u001b[0m\u001b[1;32m    315\u001b[0m     \u001b[0;32melif\u001b[0m \u001b[0mpos_label\u001b[0m \u001b[0;32mis\u001b[0m \u001b[0mNone\u001b[0m\u001b[0;34m:\u001b[0m\u001b[0;34m\u001b[0m\u001b[0m\n\u001b[1;32m    316\u001b[0m         \u001b[0mpos_label\u001b[0m \u001b[0;34m=\u001b[0m \u001b[0;36m1.\u001b[0m\u001b[0;34m\u001b[0m\u001b[0m\n",
      "\u001b[0;31mValueError\u001b[0m: Data is not binary and pos_label is not specified"
     ]
    }
   ],
   "source": []
  },
  {
   "cell_type": "code",
   "execution_count": null,
   "metadata": {
    "collapsed": true
   },
   "outputs": [],
   "source": []
  },
  {
   "cell_type": "code",
   "execution_count": null,
   "metadata": {
    "collapsed": true
   },
   "outputs": [],
   "source": []
  }
 ],
 "metadata": {
  "kernelspec": {
   "display_name": "Python 2",
   "language": "python",
   "name": "python2"
  },
  "language_info": {
   "codemirror_mode": {
    "name": "ipython",
    "version": 2
   },
   "file_extension": ".py",
   "mimetype": "text/x-python",
   "name": "python",
   "nbconvert_exporter": "python",
   "pygments_lexer": "ipython2",
   "version": "2.7.13"
  }
 },
 "nbformat": 4,
 "nbformat_minor": 2
}
